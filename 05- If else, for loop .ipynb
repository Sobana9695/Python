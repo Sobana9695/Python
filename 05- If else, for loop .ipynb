{
 "cells": [
  {
   "cell_type": "markdown",
   "metadata": {},
   "source": [
    "# IF , ELSE.... FOR LOOP"
   ]
  },
  {
   "cell_type": "markdown",
   "metadata": {},
   "source": [
    "> print this is hour in current minute is odd"
   ]
  },
  {
   "cell_type": "code",
   "execution_count": 2,
   "metadata": {},
   "outputs": [
    {
     "name": "stdout",
     "output_type": "stream",
     "text": [
      "Enter the minute :53\n",
      "This is odd minute\n"
     ]
    }
   ],
   "source": [
    "x=int(input(\"Enter the minute :\"))\n",
    "if x%3!=0:\n",
    "    print(\"This is odd minute\")\n",
    "else:\n",
    "    print(\"Even minute\")"
   ]
  },
  {
   "cell_type": "markdown",
   "metadata": {},
   "source": [
    "> if today is satarday then print 'Party !!!' or if sunday print take rest other wise print work , work, work"
   ]
  },
  {
   "cell_type": "code",
   "execution_count": 4,
   "metadata": {},
   "outputs": [
    {
     "name": "stdout",
     "output_type": "stream",
     "text": [
      "Enter the day :sunday\n",
      "Take rest\n"
     ]
    }
   ],
   "source": [
    "x=input(\"Enter the day :\")\n",
    "if x==\"sunday\":\n",
    "    print(\"Take rest\")\n",
    "elif x==\"saturday\":\n",
    "    print(\"Party!!!\")\n",
    "else:\n",
    "    print(\"work,work,work\")\n",
    "    "
   ]
  },
  {
   "cell_type": "markdown",
   "metadata": {},
   "source": [
    "> Write a program which will find all such numbers which are divisible by 7 but are not a multiple of 5, between 2000 and 3200 (both included). The numbers obtained should be printed in a comma-separated sequence on a single line."
   ]
  },
  {
   "cell_type": "code",
   "execution_count": 2,
   "metadata": {},
   "outputs": [
    {
     "name": "stdout",
     "output_type": "stream",
     "text": [
      "2002,2009,2016,2023,2037,2044,2051,2058,2072,2079,2086,2093,2107,2114,2121,2128,2142,2149,2156,2163,2177,2184,2191,2198,2212,2219,2226,2233,2247,2254,2261,2268,2282,2289,2296,2303,2317,2324,2331,2338,2352,2359,2366,2373,2387,2394,2401,2408,2422,2429,2436,2443,2457,2464,2471,2478,2492,2499,2506,2513,2527,2534,2541,2548,2562,2569,2576,2583,2597,2604,2611,2618,2632,2639,2646,2653,2667,2674,2681,2688,2702,2709,2716,2723,2737,2744,2751,2758,2772,2779,2786,2793,2807,2814,2821,2828,2842,2849,2856,2863,2877,2884,2891,2898,2912,2919,2926,2933,2947,2954,2961,2968,2982,2989,2996,3003,3017,3024,3031,3038,3052,3059,3066,3073,3087,3094,3101,3108,3122,3129,3136,3143,3157,3164,3171,3178,3192,3199,"
     ]
    }
   ],
   "source": [
    "for x in range(2000,3200,1):\n",
    "    if x%7==0 and x%5!=0:\n",
    "        print(x,end=\",\")"
   ]
  },
  {
   "cell_type": "markdown",
   "metadata": {},
   "source": [
    "> Write a program which can compute the factorial of a given numbers.\n",
    "The results should be printed in a comma-separated sequence on a single line.\n",
    "Suppose the following input is supplied to the program:\n",
    "8\n",
    "Then, the output should be:\n",
    "40320"
   ]
  },
  {
   "cell_type": "code",
   "execution_count": 8,
   "metadata": {},
   "outputs": [
    {
     "name": "stdout",
     "output_type": "stream",
     "text": [
      "Enter the number :8\n",
      "The factorial of 8 is 40320\n"
     ]
    }
   ],
   "source": [
    "x=int(input(\"Enter the number :\"))\n",
    "num=8\n",
    "factorial=1\n",
    "for i in range(1,9):\n",
    "     factorial=factorial*i\n",
    "print(\"The factorial of\",num,\"is\",factorial) "
   ]
  },
  {
   "cell_type": "markdown",
   "metadata": {},
   "source": [
    "> With a given integral number n, write a program to generate a dictionary that contains (i, i*i) such that is an integral number between 1 and n (both included). and then the program should print the dictionary.\n",
    "Suppose the following input is supplied to the program:\n",
    "8\n",
    "Then, the output should be:\n",
    "{1: 1, 2: 4, 3: 9, 4: 16, 5: 25, 6: 36, 7: 49, 8: 64}\n",
    "\n",
    "*Hint* : use dict()"
   ]
  },
  {
   "cell_type": "code",
   "execution_count": 3,
   "metadata": {},
   "outputs": [
    {
     "name": "stdout",
     "output_type": "stream",
     "text": [
      "Enter the Value :8\n"
     ]
    },
    {
     "data": {
      "text/plain": [
       "{1: 1, 2: 4, 3: 9, 4: 16, 5: 25, 6: 36, 7: 49, 8: 64}"
      ]
     },
     "execution_count": 3,
     "metadata": {},
     "output_type": "execute_result"
    }
   ],
   "source": [
    "i=int(input(\"Enter the Value :\"))\n",
    "d={}\n",
    "a=1\n",
    "while a<=i:\n",
    "        d.update({a:a*a})\n",
    "        a=a+1\n",
    "d        \n"
   ]
  },
  {
   "cell_type": "markdown",
   "metadata": {},
   "source": [
    "> create user defined fuction for \n",
    "- addition \"add\"\n",
    "- subtraction \"sub\"\n",
    "- multiplication \"mul\"\n",
    "- division \"div\"\n",
    "- power \"pow\""
   ]
  },
  {
   "cell_type": "code",
   "execution_count": 4,
   "metadata": {},
   "outputs": [
    {
     "name": "stdout",
     "output_type": "stream",
     "text": [
      "Please enter the value :8\n",
      "Please enter the value :6\n",
      "Power of x by y is : 262144\n"
     ]
    }
   ],
   "source": [
    "x=int(input(\"Please enter the value :\"))\n",
    "y=int(input(\"Please enter the value :\"))\n",
    "def f1(x,o,y):\n",
    "    if o==\"+\":\n",
    "        print(\"Addition of x and y is :\",x+y)\n",
    "    elif o==\"-\":\n",
    "        print(\"Subtraction of x and y is :\",x-y)\n",
    "    elif o==\"*\":\n",
    "        print(\"Multiplication of x and y is :\",x*y)\n",
    "    elif o==\"/\":\n",
    "        print(\"Division of x by y is :\",x/y)\n",
    "    elif o==\"**\":\n",
    "        print(\"Power of x by y is :\",x**y)\n",
    "f1(x,\"**\",y)        "
   ]
  },
  {
   "cell_type": "markdown",
   "metadata": {},
   "source": [
    "### Write a Python program that accepts a string and calculate the number of digits and letters.\n",
    "- Input\n",
    "\n",
    "    - Hello321Bye360\n",
    "- Output\n",
    "\n",
    "    - Digit - 6\n",
    "\n",
    "    - Letter - 8"
   ]
  },
  {
   "cell_type": "code",
   "execution_count": 40,
   "metadata": {},
   "outputs": [
    {
     "name": "stdout",
     "output_type": "stream",
     "text": [
      "Enter the text: innomatics1231239647\n",
      "Letters: 10\n",
      "Digits: 10\n"
     ]
    }
   ],
   "source": [
    "s = input(\"Enter the text: \")\n",
    "Letter=0\n",
    "Digit=0\n",
    "for x in s:\n",
    "    if x.isalpha():\n",
    "        Letter=Letter+1\n",
    "    elif x.isdigit():\n",
    "        Digit=Digit+1\n",
    "    else:\n",
    "        pass\n",
    "print(\"Letters:\",Letter)\n",
    "print(\"Digits:\",Digit)\n"
   ]
  },
  {
   "cell_type": "markdown",
   "metadata": {},
   "source": [
    "### With a given tuple (1,2,3,4,5,6,7,8,9,10), write a program to print the first half values in one line and the last half values in one line."
   ]
  },
  {
   "cell_type": "code",
   "execution_count": 3,
   "metadata": {},
   "outputs": [
    {
     "name": "stdout",
     "output_type": "stream",
     "text": [
      "[1, 2, 3, 4, 5, 6, 7, 8, 9, 10]\n",
      "(1, 2, 3, 4, 5)\n",
      "(6, 7, 8, 9, 10)\n"
     ]
    }
   ],
   "source": [
    "x=(1,2,3,4,5,6,7,8,9,10)\n",
    "print(list(x))\n",
    "for i in range(0,10,5):\n",
    "    y=tuple(x[i:i+5])\n",
    "    print(y) "
   ]
  },
  {
   "cell_type": "code",
   "execution_count": 11,
   "metadata": {},
   "outputs": [
    {
     "name": "stdout",
     "output_type": "stream",
     "text": [
      "(1, 2, 3, 4, 5, 6, 7, 8, 9, 10)\n",
      "((1, 2, 3, 4, 5), (6, 7, 8, 9, 10))\n"
     ]
    }
   ],
   "source": [
    "x=(1,2,3,4,5,6,7,8,9,10)\n",
    "print(str(x))\n",
    "new=tuple(x[i:i+5] for i in range(0,10,5))\n",
    "print(str(new)) "
   ]
  },
  {
   "cell_type": "code",
   "execution_count": 5,
   "metadata": {},
   "outputs": [
    {
     "name": "stdout",
     "output_type": "stream",
     "text": [
      "[1, 2, 3, 4, 5, 6, 7, 8, 9, 10]\n",
      "[1, 2, 3, 4, 5]\n",
      "[6, 7, 8, 9, 10]\n"
     ]
    }
   ],
   "source": [
    "x=(1,2,3,4,5,6,7,8,9,10)\n",
    "print(list(x))\n",
    "for i in range(0,10,5):\n",
    "    y=list(x[i:i+5])\n",
    "    print(y) "
   ]
  },
  {
   "cell_type": "markdown",
   "metadata": {},
   "source": [
    "### Write a program to generate and print another tuple whose values are even numbers in the given tuple (1,2,3,4,5,6,7,8,9,10)"
   ]
  },
  {
   "cell_type": "code",
   "execution_count": 1,
   "metadata": {},
   "outputs": [
    {
     "name": "stdout",
     "output_type": "stream",
     "text": [
      "2\n",
      "4\n",
      "6\n",
      "8\n",
      "10\n"
     ]
    }
   ],
   "source": [
    "x=(1,2,3,4,5,6,7,8,9,10)\n",
    "for y in x:\n",
    "    if y%2==0:\n",
    "        print(y)"
   ]
  },
  {
   "cell_type": "markdown",
   "metadata": {},
   "source": [
    "### Write a program which accepts a string as input to print \"Yes\" if the string is \"yes\" or \"YES\" or \"Yes\", otherwise print \"No\""
   ]
  },
  {
   "cell_type": "code",
   "execution_count": 25,
   "metadata": {},
   "outputs": [
    {
     "name": "stdout",
     "output_type": "stream",
     "text": [
      "Enter the string :yes\n",
      "YES\n"
     ]
    }
   ],
   "source": [
    "x = input(\"Enter the string :\")\n",
    "if x==\"yes\":\n",
    "    print(x.upper())\n",
    "else:\n",
    "    print(\"No\")"
   ]
  },
  {
   "cell_type": "markdown",
   "metadata": {},
   "source": [
    "### Please write a program to generate a list with 5 random numbers between 100 and 200 inclusive."
   ]
  },
  {
   "cell_type": "code",
   "execution_count": 7,
   "metadata": {},
   "outputs": [
    {
     "name": "stdout",
     "output_type": "stream",
     "text": [
      "[139, 188, 145, 194, 143]\n"
     ]
    }
   ],
   "source": []
  },
  {
   "cell_type": "code",
   "execution_count": 1,
   "metadata": {},
   "outputs": [
    {
     "name": "stdout",
     "output_type": "stream",
     "text": [
      "Random number list is : [123, 130, 132, 167, 171]\n"
     ]
    }
   ],
   "source": [
    "import random\n",
    "x = random.sample(range(100, 200), 5)  \n",
    "print (\"Random number list is : \" + str(x)) "
   ]
  },
  {
   "cell_type": "markdown",
   "metadata": {},
   "source": [
    "### Please generate a random float where the value is between 5 and 95 using Python module."
   ]
  },
  {
   "cell_type": "code",
   "execution_count": 12,
   "metadata": {},
   "outputs": [
    {
     "name": "stdout",
     "output_type": "stream",
     "text": [
      "Random float :  58.58992759583789\n"
     ]
    }
   ],
   "source": [
    "import random\n",
    "x = random.uniform(5,95)\n",
    "print (\"Random float : \",x) "
   ]
  },
  {
   "cell_type": "markdown",
   "metadata": {},
   "source": [
    "### [1,1,1,1,3,3,4,4,4,5,6,7,8,8,8]\n",
    "#### 1. from the above list print the uniques values\n",
    "#### 2. count how many times each number exist\n",
    "#### 3. Print the number which is occured more number of times"
   ]
  },
  {
   "cell_type": "code",
   "execution_count": 3,
   "metadata": {},
   "outputs": [
    {
     "name": "stdout",
     "output_type": "stream",
     "text": [
      "[1, 3, 4, 5, 6, 7, 8]\n"
     ]
    }
   ],
   "source": [
    "L=[1,1,1,1,3,3,4,4,4,5,6,7,8,8,8]\n",
    "x=set(L)\n",
    "print(list(x))"
   ]
  },
  {
   "cell_type": "code",
   "execution_count": 22,
   "metadata": {},
   "outputs": [
    {
     "name": "stdout",
     "output_type": "stream",
     "text": [
      "count of  1 is 4\n",
      "count of  3 is 2\n",
      "count of  4 is 3\n",
      "count of  5 is 1\n",
      "count of  6 is 1\n",
      "count of  7 is 1\n",
      "count of  8 is 3\n"
     ]
    }
   ],
   "source": [
    "x=L.count(1)\n",
    "print(\"count of \",1,\"is\",x)\n",
    "y=L.count(3)\n",
    "print(\"count of \",3,\"is\",y)\n",
    "z=L.count(4)\n",
    "print(\"count of \",4,\"is\",z)\n",
    "a=L.count(5)\n",
    "print(\"count of \",5,\"is\",a)\n",
    "b=L.count(6)\n",
    "print(\"count of \",6,\"is\",b)\n",
    "c=L.count(7)\n",
    "print(\"count of \",7,\"is\",c)\n",
    "d=L.count(8)\n",
    "print(\"count of \",8,\"is\",d)"
   ]
  },
  {
   "cell_type": "code",
   "execution_count": 6,
   "metadata": {},
   "outputs": [
    {
     "name": "stdout",
     "output_type": "stream",
     "text": [
      "1  =  4\n",
      "3  =  2\n",
      "4  =  3\n",
      "5  =  1\n",
      "6  =  1\n",
      "7  =  1\n",
      "8  =  3\n"
     ]
    }
   ],
   "source": [
    "x=[1,1,1,1,3,3,4,4,4,5,6,7,8,8,8]\n",
    "count={}\n",
    "for i in x:\n",
    "    if i in count:\n",
    "        count[i]+=1\n",
    "    else:\n",
    "        count[i]=1\n",
    "for keys,values in count.items():\n",
    "    print(keys,\" = \",values)"
   ]
  },
  {
   "cell_type": "code",
   "execution_count": null,
   "metadata": {},
   "outputs": [],
   "source": []
  },
  {
   "cell_type": "code",
   "execution_count": 1,
   "metadata": {},
   "outputs": [
    {
     "data": {
      "text/plain": [
       "1"
      ]
     },
     "execution_count": 1,
     "metadata": {},
     "output_type": "execute_result"
    }
   ],
   "source": [
    "def f1(x):\n",
    "    a=0\n",
    "    b=[]\n",
    "    for y in x:\n",
    "        z=x.count(y)\n",
    "        if z>a:\n",
    "            return y\n",
    "f1([1,1,1,1,3,3,4,4,4,5,6,7,8,8,8])        "
   ]
  },
  {
   "cell_type": "markdown",
   "metadata": {},
   "source": [
    "# [Innomatics Research Labs](https:/innomatics.in/)\n",
    "[www.innomatics.in](https:/innomatics.in/)"
   ]
  },
  {
   "cell_type": "code",
   "execution_count": null,
   "metadata": {},
   "outputs": [],
   "source": []
  }
 ],
 "metadata": {
  "kernelspec": {
   "display_name": "Python 3 (ipykernel)",
   "language": "python",
   "name": "python3"
  },
  "language_info": {
   "codemirror_mode": {
    "name": "ipython",
    "version": 3
   },
   "file_extension": ".py",
   "mimetype": "text/x-python",
   "name": "python",
   "nbconvert_exporter": "python",
   "pygments_lexer": "ipython3",
   "version": "3.9.12"
  }
 },
 "nbformat": 4,
 "nbformat_minor": 2
}
